{
 "cells": [
  {
   "cell_type": "code",
   "execution_count": null,
   "id": "b6fd9d21",
   "metadata": {},
   "outputs": [],
   "source": [
    "# import pickle\n",
    "# import numpy\n",
    "\n",
    "# with open(\"PATH/TO/predictions/pred_prefix.pkl\", \"rb\") as file:\n",
    "#     data = pickle.load(file)\n",
    "\n",
    "# for mat in data[\"normmats\"] :\n",
    "#     print(mat[256][0][:5, :5])\n",
    "\n",
    "\n",
    "# from collections import OrderedDict\n",
    "\n",
    "# filepath: mutation.py\n",
    "# ...existing code...\n",
    "\n",
    "# def fetch(self, chromosome):\n",
    "#         if chromosome not in self.cachedSequences:\n",
    "#             if len(self.cachedSequences) >= (self.maximumCached - 1):\n",
    "#                 # Remove the first (oldest) element in the dictionary\n",
    "#                 self.cachedSequences.popitem(last=False)\n",
    "\n",
    "# with open(\"PATH/TO/predictions/pred_prefix.pkl\", \"rb\") as file:\n",
    "#     data = pickle.load(file)\n",
    "\n",
    "# dump_target_matrix(data, \"chr9_H_sapiens_256Mb\", 0, \"None\", \"None\", None, \"chr9\", 138394717, \"Homo_sapiens.GRCh38.dna.primary_assembly\", \"256Mb\", \"chr1\")"
   ]
  },
  {
   "cell_type": "code",
   "execution_count": 2,
   "id": "c98387ac",
   "metadata": {},
   "outputs": [
    {
     "data": {
      "text/plain": [
       "('#002f6c',)"
      ]
     },
     "execution_count": 2,
     "metadata": {},
     "output_type": "execute_result"
    }
   ],
   "source": [
    "\"#e0f7fa\",  # very light cyan\n",
    "\"#80deea\",  # light turquoise\n",
    "\"#26c6da\",  # cyan\n",
    "\"#00bfae\",  # greenish blue\n",
    "\"#0288d1\",  # blue\n",
    "\"#01579b\",  # deep blue\n",
    "\"#002f6c\",  # navy"
   ]
  },
  {
   "cell_type": "code",
   "execution_count": 3,
   "id": "594cae64",
   "metadata": {},
   "outputs": [
    {
     "data": {
      "text/plain": [
       "'#0E330A'"
      ]
     },
     "execution_count": 3,
     "metadata": {},
     "output_type": "execute_result"
    }
   ],
   "source": [
    "\"#e0f7fa\",  # very light cyan\n",
    "\"#26c6da\",  # light blue-cyan\n",
    "\"#00bfae\",  # teal/greenish-blue for contrast\n",
    "\"#0288d1\",  # vivid blue\n",
    "\"#01579b\",  # deep blue\n",
    "\"#002f6c\",  # navy\n",
    "\n",
    "\"#16BE00\",\n",
    "\"#0E330A\""
   ]
  },
  {
   "cell_type": "code",
   "execution_count": 4,
   "id": "a9b4d926",
   "metadata": {},
   "outputs": [],
   "source": [
    "# from seaborn import  color_palette\n",
    "\n",
    "# %matplotlib inline\n",
    "\n",
    "# color_palette(palette=\"ch:s=0, rot=3, dark=.6, light=.4, hue=2, gamma=1.75\", n_colors=250)"
   ]
  },
  {
   "cell_type": "code",
   "execution_count": 13,
   "id": "8a1c28f5",
   "metadata": {},
   "outputs": [],
   "source": [
    "# import pandas as pd\n",
    "\n",
    "# gtf = pd.read_csv(\"input.gtf\", sep=\"\\t\", comment=\"#\", header=None)\n",
    "# transcripts = gtf[gtf[2] == \"transcript\"]\n",
    "\n",
    "# def get_tts(row):\n",
    "#     if row[6] == \"+\":\n",
    "#         return [row[0], row[4]-1, row[4], row[8], \".\", \"+\"]\n",
    "#     else:\n",
    "#         return [row[0], row[3]-1, row[3], row[8], \".\", \"-\"]\n",
    "\n",
    "# tts_bed = transcripts.apply(get_tts, axis=1, result_type=\"expand\")\n",
    "# tts_bed.to_csv(\"tts.bed\", sep=\"\\t\", header=False, index=False)"
   ]
  },
  {
   "cell_type": "code",
   "execution_count": 23,
   "id": "d3bbd11d",
   "metadata": {},
   "outputs": [],
   "source": [
    "# import os\n",
    "\n",
    "# # Get the current working directory\n",
    "# current_directory = os.getcwd()\n",
    "# print(\"Current working directory:\", current_directory)\n",
    "# os.chdir(\"/home/fforge/Stage-IA3D\")\n",
    "# current_directory = os.getcwd()\n",
    "# print(\"Current working directory:\", current_directory)\n",
    "\n",
    "\n",
    "# from collections import Counter\n",
    "\n",
    "# %matplotlib inline\n",
    "\n",
    "# import matplotlib.pyplot as plt\n",
    "# import numpy as np\n",
    "\n",
    "# # Step 1: Read scores from the file\n",
    "# with open('resources/mutations/annotations/Histones/H3K9me3_ENCAN577WMG/scores.txt', 'r') as file:\n",
    "#     scores = [line.strip() for line in file if line.strip()]\n",
    "\n",
    "# with open('resources/mutations/annotations/Histones/H3K9me3_ENCAN577WMG/p_values.txt', 'r') as file:\n",
    "#     p_val = [line.strip() for line in file if line.strip()]\n",
    "\n",
    "# with open('resources/mutations/annotations/Histones/H3K9me3_ENCAN577WMG/q_values.txt', 'r') as file:\n",
    "#     q_val = [line.strip() for line in file if line.strip()]\n",
    "\n",
    "# # Step 2: Convert to numbers (assuming integers)\n",
    "# scores = [int(value) for value in scores]\n",
    "# p_val = [float(value) for value in p_val]\n",
    "# q_val = [float(value) for value in q_val]\n",
    "\n",
    "# # scores = [np.log(int(value)) for value in scores]\n",
    "\n",
    "# # Step 3: Print the distribution\n",
    "# plt.hist(scores, edgecolor='black')\n",
    "# plt.xlabel('Score')\n",
    "# plt.ylabel('Frequency')\n",
    "# plt.yscale('log')\n",
    "# plt.title('Distribution of scores')\n",
    "# plt.show()\n",
    "\n",
    "# plt.hist(p_val, edgecolor='black')\n",
    "# plt.xlabel('p_values')\n",
    "# plt.ylabel('Frequency')\n",
    "# plt.yscale('log')\n",
    "# plt.title('Distribution of scores')\n",
    "# plt.show()\n",
    "\n",
    "# plt.hist(q_val, edgecolor='black', bins=15)\n",
    "# plt.xlabel('q_values')\n",
    "# plt.ylabel('Frequency')\n",
    "# plt.yscale('log')\n",
    "# plt.title('Distribution of scores')\n",
    "# plt.show()\n",
    "\n",
    "# # Scatter plot scores vs p_val and q_val\n",
    "# plt.figure(figsize=(12, 5))\n",
    "# plt.scatter(scores, p_val, alpha=0.6, label='Scores vs p-values')\n",
    "# plt.scatter(scores, q_val, alpha=0.6, label='Scores vs q-values')\n",
    "# plt.xlabel('Scores')\n",
    "# plt.ylabel('p/q-values')\n",
    "# plt.title('Scores vs p-values and q-values')\n",
    "# plt.legend()\n",
    "# plt.show()"
   ]
  }
 ],
 "metadata": {
  "kernelspec": {
   "display_name": "orca_env",
   "language": "python",
   "name": "python3"
  },
  "language_info": {
   "codemirror_mode": {
    "name": "ipython",
    "version": 3
   },
   "file_extension": ".py",
   "mimetype": "text/x-python",
   "name": "python",
   "nbconvert_exporter": "python",
   "pygments_lexer": "ipython3",
   "version": "3.9.21"
  }
 },
 "nbformat": 4,
 "nbformat_minor": 5
}
