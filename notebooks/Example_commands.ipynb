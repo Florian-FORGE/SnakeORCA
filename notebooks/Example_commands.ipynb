{
 "cells": [
  {
   "cell_type": "markdown",
   "id": "36c55a0d",
   "metadata": {},
   "source": [
    "# Commands for common jobs\n",
    "COMMON_PATH=\"notebooks/outputs/test/test_new_region\"\n",
    "absolute_to_relative --bed resources/mutations/annotations/chr9/CTCF/ --fasta notebooks/resources/genome/Homo_sapiens.GRCh38.dna.primary_assembly/sequence.fa --mut_path \"$COMMON_PATH/genome\" --region chr9:32000001-64000000\n",
    "mutate_and_rdm --abs_to_rel_log_path \"$COMMON_PATH/abs_to_rel.log\" --mut_path \"$COMMON_PATH/genome\" --muttype shuffle --nb_random 11 --rdm_seq False\n",
    "predict_and_run_descript --pred_prefix test_new_region --resol_model 32Mb --mutate_log_path \"$COMMON_PATH/mutate.log\" --mpos 16000000 --pred_path \"$COMMON_PATH/predictions\" --abs_to_rel_log_path \"$COMMON_PATH/abs_to_rel.log\" --builder_path \"$COMMON_PATH/matrices_builder\" --no_cuda True\n",
    "preliminary_analysis --expe_descrip \"CTCF binding sites over a new region\" --prediction_log_path \"$COMMON_PATH/prediction.log\" --analysis_path \"$COMMON_PATH/analysis\" --l_score_types insulation_count,PC1 --merged_by rdm --show_rdm False --show_compartments True\n"
   ]
  },
  {
   "cell_type": "markdown",
   "id": "7b309518",
   "metadata": {},
   "source": [
    "# Commands for permutation within intervals\n",
    "absolute_to_relative --bed /home/fforge/TEMPORAIRE/resources/ex_annot/permut_btw_8448000_and_12672000.bed --fasta /home/fforge/TEMPORAIRE/temp_extradata/Homo_sapiens.GRCh38.dna.primary_assembly.fa --mut_path /home/fforge/TEMPORAIRE/experience/Classical_runs/Permutations/permut_btw_8448000_and_12672000/permut_128kb/genome --region chr9:1-32000000\n",
    "mutate_and_rdm --abs_to_rel_log_path /home/fforge/TEMPORAIRE/experience/Classical_runs/Permutations/permut_btw_8448000_and_12672000/permut_128kb/abs_to_rel.log --mut_path /home/fforge/TEMPORAIRE/experience/Classical_runs/Permutations/permut_btw_8448000_and_12672000/permut_128kb/genome --muttype permutations_intra --nb_random 0 --rdm_seq True --binsize_permut 10\n",
    "predict_and_run_descript --pred_prefix permut_rdm_4kb --resol_model 32Mb --mutate_log_path /home/fforge/TEMPORAIRE/experience/Classical_runs/Permutations/permut_btw_8448000_and_12672000/permut_128kb/mutate.log --mpos 16000000 --pred_path /home/fforge/TEMPORAIRE/experience/Classical_runs/Permutations/permut_btw_8448000_and_12672000/permut_128kb/predictions --abs_to_rel_log_path /home/fforge/TEMPORAIRE/experience/Classical_runs/Permutations/permut_btw_8448000_and_12672000/permut_128kb/abs_to_rel.log --builder_path /home/fforge/TEMPORAIRE/experience/Classical_runs/Permutations/permut_btw_8448000_and_12672000/permut_128kb/matrices_builder --no_cuda True\n",
    "permutation_analysis --expe_descrip \"Random permutation of 128kb bins between 8.4 and 12.7 Mb - shuffling 33 portions of 128kb -\" --prediction_log_path /home/fforge/TEMPORAIRE/experience/Classical_runs/Permutations/permut_btw_8448000_and_12672000/permut_128kb/prediction.log --analysis_path /home/fforge/TEMPORAIRE/experience/Classical_runs/Permutations/permut_btw_8448000_and_12672000/permut_128kb/analysis --l_score_types PC1 --show_rdm False --show_compartments True\n"
   ]
  },
  {
   "cell_type": "markdown",
   "id": "a6ab1c6c",
   "metadata": {},
   "source": [
    "# Commands for permutation inside compartments jobs\n",
    "absolute_to_relative --bed /home/fforge/TEMPORAIRE/experience/Classical_runs/Permutations/annot/permut_after_seg_comp.bed --fasta /home/fforge/TEMPORAIRE/experience/Classical_runs/Permutations/Genome_seg_comp/sequence.fa --mut_path /home/fforge/TEMPORAIRE/experience/Classical_runs/Permutations/permut_comp_b_after_seg_comp/permut_128kb/genome --region fake_chr9:1-32000000\n",
    "mutate_and_rdm --abs_to_rel_log_path /home/fforge/TEMPORAIRE/experience/Classical_runs/Permutations/permut_comp_b_after_seg_comp/permut_128kb/abs_to_rel.log --mut_path /home/fforge/TEMPORAIRE/experience/Classical_runs/Permutations/permut_comp_b_after_seg_comp/permut_128kb/genome --muttype permutations_intra --nb_random 0 --rdm_seq True --binsize_permut 128000\n",
    "predict_and_run_descript --pred_prefix permut_rdm_128kb --resol_model 32Mb --mutate_log_path /home/fforge/TEMPORAIRE/experience/Classical_runs/Permutations/permut_comp_b_after_seg_comp/permut_128kb/mutate.log --mpos 16000000 --pred_path /home/fforge/TEMPORAIRE/experience/Classical_runs/Permutations/permut_comp_b_after_seg_comp/permut_128kb/predictions --abs_to_rel_log_path /home/fforge/TEMPORAIRE/experience/Classical_runs/Permutations/permut_comp_b_after_seg_comp/permut_128kb/abs_to_rel.log --builder_path /home/fforge/TEMPORAIRE/experience/Classical_runs/Permutations/permut_comp_b_after_seg_comp/permut_128kb/matrices_builder --no_cuda True\n",
    "permutation_analysis --expe_descrip \"Random permutation of 128kb bins in compartment B post-segregation of the compatments\" --prediction_log_path /home/fforge/TEMPORAIRE/experience/Classical_runs/Permutations/permut_comp_b_after_seg_comp/permut_128kb/prediction.log --analysis_path /home/fforge/TEMPORAIRE/experience/Classical_runs/Permutations/permut_comp_b_after_seg_comp/permut_128kb/analysis --l_score_types PC1 --show_rdm False --show_compartments True\n"
   ]
  },
  {
   "cell_type": "markdown",
   "id": "e3ff0c61",
   "metadata": {},
   "source": [
    "# Commands for directed permutation\n",
    "absolute_to_relative --bed notebooks/outputs/test/Permutations/annot/permut_all.bed --fasta notebooks/resources/genome/Homo_sapiens.GRCh38.dna.primary_assembly/sequence.fa --mut_path notebooks/outputs/test/Permutations/permut_rdm_4kb/genome --region chr9:1-32000000\n",
    "mutate_and_rdm --abs_to_rel_log_path notebooks/outputs/test/Permutations/permut_rdm_4kb/abs_to_rel.log --mut_path notebooks/outputs/test/Permutations/permut_rdm_4kb/genome --muttype permutations_intra --nb_random 0 --rdm_seq True --binsize 128000 --order 0,1,2,3,4,5,6,7,8,9,10,11,12,13,14,15,16,17,18,19,20,21,22,23,24,25,26,27,28,29,30,31,32,33,34,35,36,37,38,39,40,41,42,43,44,45,46,47,48,49,50,51,52,53,54,55,56,57,113,114,115,116,117,118,119,120,121,122,123,124,125,126,127,128,129,130,131,132,133,134,135,136,137,138,139,140,141,142,143,144,145,146,147,148,149,150,151,152,160,161,162,163,164,165,166,167,168,169,170,171,172,173,174,175,210,211,212,213,214,215,58,59,60,61,62,63,64,65,66,67,68,69,70,71,72,73,74,75,76,77,78,79,80,81,82,83,84,85,86,87,88,89,90,91,92,93,94,95,96,97,98,99,100,101,102,103,104,105,106,107,108,109,110,111,112,153,154,155,156,157,158,159,176,177,178,179,180,181,182,183,184,185,186,187,188,189,190,191,192,193,194,195,196,197,198,199,200,201,202,203,204,205,206,207,208,209,216,217,218,219,220,221,222,223,224,225,226,227,228,229,230,231,232,233,234,235,236,237,238,239,240,241,242,243,244,245,246,247,248,249\n",
    "predict_and_run_descript --pred_prefix permut_rdm_4kb --resol_model 32Mb --mutate_log_path notebooks/outputs/test/Permutations/permut_rdm_4kb/mutate.log --mpos 16000000 --pred_path notebooks/outputs/test/Permutations/permut_rdm_4kb/predictions --abs_to_rel_log_path notebooks/outputs/test/Permutations/permut_rdm_4kb/abs_to_rel.log --builder_path notebooks/outputs/test/Permutations/permut_rdm_4kb/matrices_builder --no_cuda True\n",
    "permutation_analysis --expe_descrip \"Random permutation of all the bins - shuffling 8000 portions of 4kb -\" --prediction_log_path notebooks/outputs/test/Permutations/permut_rdm_4kb/prediction.log --analysis_path notebooks/outputs/test/Permutations/permut_rdm_4kb/analysis --l_score_types PC1 --show_rdm False --show_compartments True\n"
   ]
  },
  {
   "cell_type": "markdown",
   "id": "3c6b6437",
   "metadata": {},
   "source": [
    "# Commands for random genome jobs\n",
    "abs_rdm_genome --trace experience/Annot/CTCF/trace_Wtd_mut.csv --length 32000000 --mut_path experience/test_add_CTCF_1/genome --chrom_name fake_chr9\n",
    "mutate_and_rdm --abs_to_rel_log_path experience/test_add_CTCF_1/abs_rdm.log --mut_path experience/test_add_CTCF_1/genome --muttype insertion --nb_random 0 --rdm_seq True\n",
    "predict_and_run_descript --pred_prefix add_CTCF --resol_model 32Mb --mutate_log_path experience/test_add_CTCF_1/mutate.log --mpos 15872000 --pred_path experience/test_add_CTCF_1/predictions --abs_to_rel_log_path experience/test_add_CTCF_1/abs_rdm.log --builder_path experience/test_add_CTCF_1/matrices_builder --no_cuda True\n",
    "preliminary_analysis --prediction_log_path experience/test_add_CTCF_1/prediction.log --analysis_path experience/test_add_CTCF_1/analysis --l_score_types insulation_count,PC1 --merged_by rdm --l_resol None --show_rdm False --show_compartments True\n"
   ]
  },
  {
   "cell_type": "markdown",
   "id": "e338f5df",
   "metadata": {},
   "source": [
    "# Commands for random bed jobs\n",
    "absolute_to_relative --fasta notebooks/resources/genome/Homo_sapiens.GRCh38.dna.primary_assembly/sequence.fa --mut_path ../Experience/New_H3K9me3_ENCAN577WMG_filtered_q_val/genome --region chr9:1-32000000 --excluded_domains resources/mutations/annotations/compartment_A.bed --interval_size 312 --nb_interval 10_000\n",
    "mutate_and_rdm --abs_to_rel_log_path ../Experience/New_H3K9me3_ENCAN577WMG_filtered_q_val/abs_to_rel.log --mut_path ../Experience/New_H3K9me3_ENCAN577WMG_filtered_q_val/genome --muttype insertion --nb_random 11 --rdm_seq True\n",
    "predict_and_run_descript --pred_prefix New_H3K9me3_ENCAN577WMG_filtered_q_val --resol_model 32Mb --mutate_log_path ../Experience/New_H3K9me3_ENCAN577WMG_filtered_q_val/mutate.log --mpos 15872000 --pred_path ../Experience/New_H3K9me3_ENCAN577WMG_filtered_q_val/predictions --abs_to_rel_log_path ../Experience/New_H3K9me3_ENCAN577WMG_filtered_q_val/abs_to_rel.log --builder_path ../Experience/New_H3K9me3_ENCAN577WMG_filtered_q_val/matrices_builder --no_cuda True\n",
    "preliminary_analysis --expe_descrip \"H3K9me3_ENCAN577WMG filtered (q-val > 5)\" --prediction_log_path ../Experience/New_H3K9me3_ENCAN577WMG_filtered_q_val/prediction.log --analysis_path ../Experience/New_H3K9me3_ENCAN577WMG_filtered_q_val/analysis --l_score_types insulation_count,PC1 --merged_by rdm --l_resol None --show_rdm False --show_compartments True\n"
   ]
  },
  {
   "cell_type": "markdown",
   "id": "e6e37b6d",
   "metadata": {},
   "source": [
    "# Commands for bottom-up from a specific bed\n",
    "absolute_to_relative --bed /home/fforge/TEMPORAIRE/resources/ex_annot/compartment_A.bed --fasta /home/fforge/TEMPORAIRE/temp_extradata/Homo_sapiens.GRCh38.dna.primary_assembly.fa --mut_path /home/fforge/TEMPORAIRE/experience/Bottom_up/ADDING_COMP_A/genome --region chr9:1-32000000\n",
    "mutate_and_rdm --abs_to_rel_log_path /home/fforge/TEMPORAIRE/experience/Bottom_up/ADDING_COMP_A/abs_to_rel.log --mut_path /home/fforge/TEMPORAIRE/experience/Bottom_up/ADDING_COMP_A/genome --muttype shuffle --nb_random 0 --rdm_seq True\n",
    "**Move the trace to the folder you want and adapt the following command in consequence**\n",
    "**Previous reference and Wtd_mut folders can be supprresed or moved inside another folder (e.g. trace_origin)**\n",
    "annot_from_traces --trace /home/fforge/TEMPORAIRE/experience/Bottom_up/Annot/trace_comp_A.csv --mut_path /home/fforge/TEMPORAIRE/experience/Bottom_up/ADDING_COMP_A/genome/Added --chrom_name fake_chr9\n",
    "**If you want to use an already existing fasta create a reference folder, place it there, and create a corresponding abs_rdm.log file. Else use :**\n",
    "abs_rdm_genome --length 32000000 --mut_path /home/fforge/TEMPORAIRE/experience/Bottom_up/ADDING_COMP_A/genome\n",
    "**Then proceed with the following :**\n",
    "bottom_up_mutate --abs_rdm_log_path experience/Bottom_up/Test/abs_rdm.log --annot_f_traces_log_path  /home/fforge/TEMPORAIRE/experience/Bottom_up/ADDING_COMP_A/genome/Added/annot_f_traces.log --mut_path /home/fforge/TEMPORAIRE/experience/Bottom_up/ADDING_COMP_A/genome/Added\n",
    "predict_and_run_descript --pred_prefix Adding_comp_A_to_rdm --resol 32Mb --mutate_log_path /home/fforge/TEMPORAIRE/experience/Bottom_up/ADDIN\n",
    "G_COMP_A/mutate.log --mpos 16000000 --pred_path /home/fforge/TEMPORAIRE/experience/Bottom_up/ADDING_COMP_A/predictions --abs_to_rel_log_path /home/fforge/TEMPORAIRE/experience/Bottom_up/ADDING_COMP_A/abs_to_rel.log --builder_path /home/fforge/TEMPORAIRE/experience/Bottom_up/ADDING_COMP_A/matrices_builder --no_cuda True\n",
    "permutation_analysis --expe_descrip \"Adding comp A\" --prediction_log_path /home/fforge/TEMPORAIRE/experience/Bottom_up/ADDING_COMP_A/prediction.log --analysis_path /home/fforge/TEMPORAIRE/experience/Bottom_up/ADDING_COMP_A/analysis --l_score_types PC1 --show_rdm False --show_compartments True\n"
   ]
  }
 ],
 "metadata": {
  "kernelspec": {
   "display_name": "orca_env",
   "language": "python",
   "name": "python3"
  },
  "language_info": {
   "codemirror_mode": {
    "name": "ipython",
    "version": 3
   },
   "file_extension": ".py",
   "mimetype": "text/x-python",
   "name": "python",
   "nbconvert_exporter": "python",
   "pygments_lexer": "ipython3",
   "version": "3.9.21"
  }
 },
 "nbformat": 4,
 "nbformat_minor": 5
}
